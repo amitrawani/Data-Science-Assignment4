{
 "cells": [
  {
   "cell_type": "code",
   "execution_count": null,
   "id": "7c3117df-51ec-4a74-a2cf-c2cd68e62e14",
   "metadata": {},
   "outputs": [],
   "source": [
    "#Q1. Explain Class and Object with respect to Object-Oriented Programming. Give a suitable example.\n",
    "\n",
    "Ans: Solving a problem by creating objects in one of the most popular approaches in programming. this is called object oriented programming.\n",
    "This concept focuses on using reusable code.\n",
    "\n",
    "Class: A class is a blueprint for creating objects.\n",
    "contains info to create a valid application --------> Blank form --------> Field by an student ------> Application of the students.\n",
    "\n",
    "Class ----> object instantiation ------> object\n",
    "The syntax of a class looks like this:\n",
    "     class Employee:\n",
    "        # methods & variables\n",
    "\n",
    "Object : An Objects is an instantiation of a class. when class is defined, a template(info) is defined memory is allocated only after \n",
    "object instantiation.\n",
    "Objects of a given class can invoke the methods available to it without revealing the implementation details to the user."
   ]
  },
  {
   "cell_type": "code",
   "execution_count": 8,
   "id": "027d426e-ee90-485d-931f-9a15daf7939a",
   "metadata": {},
   "outputs": [
    {
     "name": "stdout",
     "output_type": "stream",
     "text": [
      "Ankita says hi!\n",
      "Anuj is walking.\n"
     ]
    }
   ],
   "source": [
    "#example:\n",
    "class Person:\n",
    "    def __init__(self, name, age, gender):\n",
    "        self.name = name\n",
    "        self.age = age\n",
    "        self.gender = gender\n",
    "    \n",
    "    def speak(self):\n",
    "        print(f\"{self.name} says hi!\")\n",
    "    \n",
    "    def walk(self):\n",
    "        print(f\"{self.name} is walking.\")\n",
    "\n",
    "person1 = Person(\"Ankita\", 25, \"female\")\n",
    "person2 = Person(\"Anuj\", 30, \"male\")\n",
    "\n",
    "person1.speak()  \n",
    "person2.walk()   \n"
   ]
  },
  {
   "cell_type": "code",
   "execution_count": null,
   "id": "3ce1a75e-6862-45eb-af6b-c8b04c504326",
   "metadata": {},
   "outputs": [],
   "source": [
    "Q2. Name the four pillars of OOPs.\n",
    "Ans: The four pillars of Object-Oriented Programming are:\n",
    "1.Encapsulation - bundling of data and methods that operate on that data into a single unit (class) and restricting access to \n",
    "the internal details of the object from the outside world.\n",
    "2.Inheritance - a mechanism of deriving a new class from an existing class, to reuse and extend the functionality of the existing class.\n",
    "3.Polymorphism - the ability of objects of different classes to be used interchangeably, based on the common interface they implement.\n",
    "4.Abstraction - the ability to focus on essential features of an object while ignoring non-essential details."
   ]
  },
  {
   "cell_type": "code",
   "execution_count": null,
   "id": "830384de-f825-4d35-bdbc-71425d1e8ba2",
   "metadata": {},
   "outputs": [],
   "source": [
    "Q3. Explain why the __init__() function is used. Give a suitable example.\n",
    "The __init__() function is a special method in Python classes that is called when an object is created.\n",
    "It initializes the object's attributes with the values passed as arguments and sets default values if no arguments are passed. \n",
    "The __init__() function is used to define the initial state of an object.\n"
   ]
  },
  {
   "cell_type": "code",
   "execution_count": 9,
   "id": "18a95ba7-b437-4d63-b5a8-03723d1eea9b",
   "metadata": {},
   "outputs": [
    {
     "name": "stdout",
     "output_type": "stream",
     "text": [
      "Komal 25 female\n",
      "Babita 30 male\n"
     ]
    }
   ],
   "source": [
    "class Person:\n",
    "    def __init__(self, name, age, gender):\n",
    "        self.name = name\n",
    "        self.age = age\n",
    "        self.gender = gender\n",
    "    \n",
    "    def speak(self):\n",
    "        print(f\"{self.name} says hi!\")\n",
    "    \n",
    "    def walk(self):\n",
    "        print(f\"{self.name} is walking.\")\n",
    "\n",
    "person1 = Person(\"Komal\", 25, \"female\")\n",
    "person2 = Person(\"Babita\", 30, \"male\")\n",
    "\n",
    "print(person1.name, person1.age, person1.gender)  \n",
    "print(person2.name, person2.age, person2.gender)  \n"
   ]
  },
  {
   "cell_type": "code",
   "execution_count": null,
   "id": "1163fa01-c2c5-43b2-9142-508e91497e20",
   "metadata": {},
   "outputs": [],
   "source": [
    "Q4. Why self is used in OOPs?\n",
    "Ans: The use of \"self\" is essential in OOP because it allows objects to have their own unique set of properties and methods, \n",
    "even if they belong to the same class. By using \"self\", objects can access and modify their own state without affecting the state of other objects."
   ]
  },
  {
   "cell_type": "code",
   "execution_count": null,
   "id": "d3997b9f-d4f3-4ea0-af04-70fa8c7eef63",
   "metadata": {},
   "outputs": [],
   "source": [
    "Q5. What is inheritance? Give an example for each type of inheritance.\n",
    "Ans: Inheritance is a mechanism in which one class acquires the property of another class. For example, a child inherits the traits of his/her parents.\n",
    "For example, let's say we have a class called \"Person\" with properties like \"name\", \"age\", and \"gender\".\n",
    "When we create an instance of this class, we can use \"self\" to refer to the specific person and set or get their properties.\n",
    "\n",
    "class Person:\n",
    "def init(self, name, age, gender):\n",
    "self.name = name\n",
    "self.age = age\n",
    "self.gender = gender"
   ]
  },
  {
   "cell_type": "code",
   "execution_count": 10,
   "id": "7dc22dc7-6853-4dae-9a3d-b7b9d8e1cc50",
   "metadata": {},
   "outputs": [],
   "source": [
    "def introduce(self):\n",
    "    print(\"Hi, my name is\", self.name, \"and I'm\", self.age, \"years old.\")\n"
   ]
  },
  {
   "cell_type": "code",
   "execution_count": null,
   "id": "63278802-6dc2-4694-a495-3339342b3b11",
   "metadata": {},
   "outputs": [],
   "source": []
  }
 ],
 "metadata": {
  "kernelspec": {
   "display_name": "Python 3 (ipykernel)",
   "language": "python",
   "name": "python3"
  },
  "language_info": {
   "codemirror_mode": {
    "name": "ipython",
    "version": 3
   },
   "file_extension": ".py",
   "mimetype": "text/x-python",
   "name": "python",
   "nbconvert_exporter": "python",
   "pygments_lexer": "ipython3",
   "version": "3.10.8"
  }
 },
 "nbformat": 4,
 "nbformat_minor": 5
}
